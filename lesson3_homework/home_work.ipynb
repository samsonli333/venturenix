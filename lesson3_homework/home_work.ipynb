{
 "cells": [
  {
   "cell_type": "code",
   "execution_count": 31,
   "metadata": {},
   "outputs": [
    {
     "name": "stdout",
     "output_type": "stream",
     "text": [
      "[5]\n"
     ]
    }
   ],
   "source": [
    "\n",
    "\n",
    "input_list = [1, 4, 6, 7, 5, 4, 6, 1, 7]\n",
    "                \n",
    "\n",
    "# method 1\n",
    "def find_single(input_list):\n",
    "    duplicate_list = []    \n",
    "    for index,occur_first in enumerate(input_list):\n",
    "        if occur_first in input_list[index + 1:]:\n",
    "                 duplicate_list.append(occur_first)\n",
    "\n",
    "    for dup in duplicate_list:\n",
    "        for value in input_list:\n",
    "            if(dup == value):\n",
    "                input_list.remove(value)\n",
    "    print(input_list)\n",
    "\n",
    "    \n",
    "         \n",
    "\n",
    "  \n",
    "#method 2\n",
    "def find_single(input_list):\n",
    "    occurence = dict()\n",
    "    result_list= []\n",
    "    for input in input_list:\n",
    "        if( input not in occurence):\n",
    "            occurence[input] = 1\n",
    "        else:\n",
    "            occurence[input] += 1\n",
    "\n",
    "        if(occurence[input] < 2):\n",
    "            result_list.append(input)\n",
    "        else:\n",
    "            result_list.remove(input)\n",
    "        \n",
    "    print(result_list)\n",
    "\n",
    "\n",
    "\n",
    "find_single(input_list)"
   ]
  }
 ],
 "metadata": {
  "kernelspec": {
   "display_name": "base",
   "language": "python",
   "name": "python3"
  },
  "language_info": {
   "codemirror_mode": {
    "name": "ipython",
    "version": 3
   },
   "file_extension": ".py",
   "mimetype": "text/x-python",
   "name": "python",
   "nbconvert_exporter": "python",
   "pygments_lexer": "ipython3",
   "version": "3.12.4"
  }
 },
 "nbformat": 4,
 "nbformat_minor": 2
}
