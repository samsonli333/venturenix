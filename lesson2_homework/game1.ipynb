{
 "cells": [
  {
   "cell_type": "code",
   "execution_count": null,
   "metadata": {},
   "outputs": [],
   "source": [
    "# Game: rocky paper scissors\n",
    "# A function to play rock paper scissors with computer\n",
    "# Requirements:\n",
    "# - rule: paper > rock, ...\n",
    "# - computer randomly choose one\n",
    "# - player input one choice\n",
    "# - get result from rule, win / lose / draw\n",
    "# - play 3 rounds of each game, win 2 to win the game\n",
    "# - if draw, replay that round"
   ]
  },
  {
   "cell_type": "code",
   "execution_count": 1,
   "metadata": {},
   "outputs": [],
   "source": [
    "import random"
   ]
  },
  {
   "cell_type": "code",
   "execution_count": 16,
   "metadata": {},
   "outputs": [],
   "source": [
    "computer_choice = random.choice([\"rock\", \"paper\", \"scissors\"])"
   ]
  },
  {
   "cell_type": "code",
   "execution_count": 20,
   "metadata": {},
   "outputs": [],
   "source": [
    "computer_choice = random.choice(['r', 'p', 's'])"
   ]
  },
  {
   "cell_type": "code",
   "execution_count": 18,
   "metadata": {},
   "outputs": [],
   "source": [
    "computer_choice = random.choice([0,1,2])"
   ]
  },
  {
   "cell_type": "code",
   "execution_count": 19,
   "metadata": {},
   "outputs": [
    {
     "data": {
      "text/plain": [
       "1"
      ]
     },
     "execution_count": 19,
     "metadata": {},
     "output_type": "execute_result"
    }
   ],
   "source": [
    "computer_choice"
   ]
  },
  {
   "cell_type": "code",
   "execution_count": null,
   "metadata": {},
   "outputs": [],
   "source": []
  },
  {
   "cell_type": "code",
   "execution_count": null,
   "metadata": {},
   "outputs": [],
   "source": [
    "play()"
   ]
  },
  {
   "cell_type": "code",
   "execution_count": 51,
   "metadata": {},
   "outputs": [
    {
     "name": "stdout",
     "output_type": "stream",
     "text": [
      "computer is s\n",
      "user is r\n",
      "you win Round(1)\n",
      "computer is p\n",
      "user is s\n",
      "you win Round(2)\n",
      "computer is p\n",
      "user is p\n",
      "draw Round(3)\n",
      "computer is p\n",
      "user is p\n",
      "draw Round(3)\n",
      "computer is r\n",
      "user is p\n",
      "you win Round(3)\n",
      "At last, you win this game\n"
     ]
    }
   ],
   "source": [
    "import random\n",
    "\n",
    "def find_result():\n",
    "    user_input = ''\n",
    "    choice = \"psr\"\n",
    "    is_true = True\n",
    "    score = 0\n",
    "\n",
    "\n",
    "\n",
    "    while (is_true):\n",
    "        user_input = input(\"Please enter a choice  --  p = paper , r = rock , s = scissors\")\n",
    "        is_true = user_input != 'p' and user_input != 's' and user_input != 'r'\n",
    "\n",
    "\n",
    "    for index , _ in enumerate(choice):\n",
    "        if(user_input == choice[index]):\n",
    "            user_input = index + 1\n",
    "            \n",
    "    \n",
    "    computer_choice = random.choice([1,2,3])\n",
    "    print(f'computer is {choice[computer_choice - 1]}')\n",
    "    print(f'user is {choice[user_input - 1]}')\n",
    "    result = computer_choice - user_input\n",
    "\n",
    "    if(user_input == 1 ):\n",
    "        if(result == 2):\n",
    "            score = 1\n",
    "        elif(result == 1):\n",
    "            score = -1\n",
    "    elif(user_input == 2):\n",
    "        if(result == 1):\n",
    "            score = -1\n",
    "        elif(result == -1):\n",
    "            score = 1\n",
    "    elif(user_input == 3):\n",
    "        if(result == -1):\n",
    "            score = 1\n",
    "        elif(result == -2):\n",
    "            score = 1\n",
    "\n",
    "    return score\n",
    "          \n",
    "\n",
    "def play(round = 3):\n",
    "    total = 0\n",
    "    score = 0 \n",
    "    times = 1\n",
    "    while( score == 0 or times < (round + 1)):\n",
    "        score = find_result()\n",
    "        if(score != 0):\n",
    "            if(score > 0):\n",
    "                print(f'you win Round({times})')\n",
    "            else:\n",
    "                print(f'you lose Round({times})')\n",
    "            total += score\n",
    "            times += 1\n",
    "        else:\n",
    "            print(f'draw Round({times})')\n",
    "    if(total > 0):\n",
    "        print(\"At last, you win this game\")\n",
    "    else:\n",
    "        print(\"At last, you lose this game\")\n",
    "        \n",
    "\n",
    "    \n",
    "\n",
    "play()"
   ]
  },
  {
   "cell_type": "code",
   "execution_count": null,
   "metadata": {},
   "outputs": [],
   "source": []
  }
 ],
 "metadata": {
  "kernelspec": {
   "display_name": "base",
   "language": "python",
   "name": "python3"
  },
  "language_info": {
   "codemirror_mode": {
    "name": "ipython",
    "version": 3
   },
   "file_extension": ".py",
   "mimetype": "text/x-python",
   "name": "python",
   "nbconvert_exporter": "python",
   "pygments_lexer": "ipython3",
   "version": "3.12.4"
  }
 },
 "nbformat": 4,
 "nbformat_minor": 2
}
