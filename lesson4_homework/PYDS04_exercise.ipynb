{
 "cells": [
  {
   "cell_type": "markdown",
   "id": "393662da-2fe0-4449-bc0a-574c38704136",
   "metadata": {},
   "source": [
    "(*unhide hidden cell for tips*)"
   ]
  },
  {
   "cell_type": "markdown",
   "id": "e2be19ed-8f7f-4040-9dc6-c5d970d1cec5",
   "metadata": {
    "tags": []
   },
   "source": [
    "### Exercise 1\n",
    "Write a Python program to get the Fibonacci series between 0 to i. i has to be >= 1 and is input by user. The Fibonnaci seqence is a sequence of numbers where the next number in the sequence is the sum of the previous two numbers in the sequence. The sequence looks like this: 1, 1, 2, 3, 5, 8, 13, …\n",
    "\n",
    "Example:\n",
    "* Input: 10\n",
    "* Output: [1, 1, 2, 3, 5, 8, 13, 21, 34, 55]"
   ]
  },
  {
   "cell_type": "code",
   "execution_count": null,
   "id": "7918b7ca-471d-4fa3-bc4e-168e37055ce4",
   "metadata": {
    "jupyter": {
     "source_hidden": true
    },
    "tags": []
   },
   "outputs": [],
   "source": [
    "# Input: 3\n",
    "# Output: [1,1,2]\n",
    "\n",
    "# loop\n",
    "# l = [1... l[i-2], l[i-1], l[i], ...]\n",
    "# l[i] = l[i-2] + l[i-1]\n",
    "\n",
    "# what about when i = 1, l[1]? l[0]?\n",
    "\n",
    "# return l"
   ]
  },
  {
   "cell_type": "code",
   "execution_count": 5,
   "id": "941d4ae7-0870-4ce3-9bcc-88be353ef427",
   "metadata": {},
   "outputs": [
    {
     "data": {
      "text/plain": [
       "[1, 1, 2, 3, 5, 8, 13, 21, 34, 55]"
      ]
     },
     "execution_count": 5,
     "metadata": {},
     "output_type": "execute_result"
    }
   ],
   "source": [
    "input_value = 10\n",
    "\n",
    "def func1(input_value):\n",
    "    temp_list = []\n",
    "    for n in range(input_value):\n",
    "        if(n == 0):\n",
    "            temp_list.append(1)\n",
    "        elif(n == 1):\n",
    "            temp_list.append(1)\n",
    "        else:\n",
    "            temp_list.append(temp_list[n-2] + temp_list[n-1])\n",
    "    return temp_list\n",
    "\n",
    "func1(input_value)\n",
    "\n"
   ]
  },
  {
   "cell_type": "markdown",
   "id": "df985ac0-fb8e-4caa-8e8c-ebfef1646b1a",
   "metadata": {},
   "source": [
    "### Exercise 2\n",
    "Write a program which can compute the factorial of a given number. \n",
    "And then write a program to return the series of factorials from 1 to n, given an input of integer n. The results should be printed in a comma-separated sequence on a single line. \n",
    "\n",
    "Example:\n",
    "* Input: 8\n",
    "* Output: [1, 1, 2, 6, 24, 120, 720, 5040, 40320]"
   ]
  },
  {
   "cell_type": "code",
   "execution_count": null,
   "id": "99ad6ebd-99bf-49b9-b43f-14939653e2a8",
   "metadata": {
    "jupyter": {
     "source_hidden": true
    },
    "tags": []
   },
   "outputs": [],
   "source": [
    "# factorial of 8 = 8*7*6*5*4*3*2*1\n",
    "# first part: get factorial of a number\n",
    "# second part: get factorial of each number in a list\n",
    "\n",
    "# first part:\n",
    "# i -> from 1 to i, multiply them together\n",
    "# what about if i == 0? factorial of 0 is 1\n",
    "\n",
    "# second part:\n",
    "# loop from 0 to input"
   ]
  },
  {
   "cell_type": "code",
   "execution_count": 7,
   "id": "48f3f891-4c69-4cb9-8f00-d8b051d5c5ae",
   "metadata": {},
   "outputs": [
    {
     "data": {
      "text/plain": [
       "[1, 1, 2, 6, 24, 120, 720, 5040, 40320]"
      ]
     },
     "execution_count": 7,
     "metadata": {},
     "output_type": "execute_result"
    }
   ],
   "source": [
    "input_value = 8\n",
    "\n",
    "def func2(input_value):\n",
    "    temp_list = []\n",
    "    for n in range(input_value + 1):\n",
    "        if( n == 0):\n",
    "            temp_list.append(1)\n",
    "        else:\n",
    "            temp_list.append(temp_list[n-1] * n)\n",
    "    return temp_list\n",
    "\n",
    "func2(8)"
   ]
  },
  {
   "cell_type": "markdown",
   "id": "71b994b3-b70d-439a-84bc-8f45ea65777b",
   "metadata": {},
   "source": [
    "### Exercise 3\n",
    "Write a function to find the longest common prefix string amongst an array of strings.\n",
    "\n",
    "If there is no common prefix, return an empty string \"\".\n",
    "\n",
    "Example 1:\n",
    "\n",
    "* Input: [\"flower\",\"flow\",\"flight\"]\n",
    "* Output: \"fl\"\n",
    "\n",
    "Example 2:\n",
    "\n",
    "* Input: [\"dog\",\"racecar\",\"car\"]\n",
    "* Output: \"\""
   ]
  },
  {
   "cell_type": "code",
   "execution_count": null,
   "id": "f97329f8-bc19-45ae-a02f-4016347702c5",
   "metadata": {
    "jupyter": {
     "source_hidden": true
    },
    "tags": []
   },
   "outputs": [],
   "source": [
    "# loop to check each item in list\n",
    "# question: start with 1 character, and then add more character if we find match\n",
    "# OR: start with a word, and then minus character if we find mismatch?\n",
    "\n",
    "# maybe one more loop check each string characters?"
   ]
  },
  {
   "cell_type": "code",
   "execution_count": 32,
   "id": "c4d24bb9-1d67-4c40-8736-cad0ddd915ca",
   "metadata": {},
   "outputs": [
    {
     "data": {
      "text/plain": [
       "'flow'"
      ]
     },
     "execution_count": 32,
     "metadata": {},
     "output_type": "execute_result"
    }
   ],
   "source": [
    "import random\n",
    "\n",
    "input_list  = [\"flower\",\"flow\",\"flowe\"]\n",
    "\n",
    "def func3(input_value):\n",
    "    string = \"\"\n",
    "    choice = random.choice(input_value)\n",
    "    for index , char in enumerate(choice):\n",
    "        isSame = True\n",
    "        for word in input_value:\n",
    "            if( index >= len(word)):\n",
    "                isSame = False\n",
    "            elif(index < len(word) and word[index] != char):\n",
    "                isSame = False\n",
    "        if(isSame):\n",
    "            string += char\n",
    "\n",
    "    return string\n",
    "\n",
    "\n",
    "func3(input_list)\n",
    "    \n",
    "\n",
    "\n"
   ]
  },
  {
   "cell_type": "markdown",
   "id": "d741ce1b-7c14-432b-9d22-06e3c842d621",
   "metadata": {
    "tags": []
   },
   "source": [
    "### Exercise 4\n",
    "Given a list of numbers, return whether any two sums to k. For example, given [10, 15, 3, 7] and k of 17, return true since 10 + 7 is 17.\n",
    "\n",
    "Bonus: Can you do this in one pass?"
   ]
  },
  {
   "cell_type": "code",
   "execution_count": 38,
   "id": "9fdc241e-0603-4734-8b00-bbd3ae891cd4",
   "metadata": {},
   "outputs": [
    {
     "name": "stdout",
     "output_type": "stream",
     "text": [
      "10 + 10 = 20\n",
      "True\n"
     ]
    }
   ],
   "source": [
    "input_list = [10,15,3,7]\n",
    "\n",
    "def func4(input_value,k):\n",
    "    for num1 in input_value:\n",
    "        for num2 in input_value:\n",
    "            if(k-num1 == num2):\n",
    "                print(f'{num1} + {num2} = {k}')\n",
    "                return True\n",
    "    return False\n",
    "\n",
    "value = func4(input_list,20)\n",
    "print(value)"
   ]
  }
 ],
 "metadata": {
  "kernelspec": {
   "display_name": "base",
   "language": "python",
   "name": "python3"
  },
  "language_info": {
   "codemirror_mode": {
    "name": "ipython",
    "version": 3
   },
   "file_extension": ".py",
   "mimetype": "text/x-python",
   "name": "python",
   "nbconvert_exporter": "python",
   "pygments_lexer": "ipython3",
   "version": "3.12.4"
  }
 },
 "nbformat": 4,
 "nbformat_minor": 5
}
