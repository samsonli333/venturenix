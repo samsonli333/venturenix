{
 "cells": [
  {
   "cell_type": "markdown",
   "id": "71b994b3-b70d-439a-84bc-8f45ea65777b",
   "metadata": {},
   "source": [
    "### Exercise 3\n",
    "Write a function to find the longest common prefix string amongst an array of strings.\n",
    "\n",
    "If there is no common prefix, return an empty string \"\".\n",
    "\n",
    "Example 1:\n",
    "\n",
    "* Input: [\"flower\",\"flow\",\"flight\"]\n",
    "* Output: \"fl\"\n",
    "\n",
    "Example 2:\n",
    "\n",
    "* Input: [\"dog\",\"racecar\",\"car\"]\n",
    "* Output: \"\""
   ]
  },
  {
   "cell_type": "code",
   "execution_count": null,
   "id": "f97329f8-bc19-45ae-a02f-4016347702c5",
   "metadata": {
    "jupyter": {
     "source_hidden": true
    },
    "tags": []
   },
   "outputs": [],
   "source": [
    "# loop to check each item in list\n",
    "# question: start with 1 character, and then add more character if we find match\n",
    "# OR: start with a word, and then minus character if we find mismatch?\n",
    "\n",
    "# maybe one more loop check each string characters?"
   ]
  },
  {
   "cell_type": "code",
   "execution_count": 17,
   "id": "c4d24bb9-1d67-4c40-8736-cad0ddd915ca",
   "metadata": {},
   "outputs": [
    {
     "data": {
      "text/plain": [
       "'fl'"
      ]
     },
     "execution_count": 17,
     "metadata": {},
     "output_type": "execute_result"
    }
   ],
   "source": [
    "import random\n",
    "\n",
    "input_list  = [\"flower\",\"flow\",\"flaw\"]\n",
    "\n",
    "def func3(input_value):\n",
    "    string = \"\"\n",
    "    choice = random.choice(input_value)\n",
    "    for index , char in enumerate(choice):\n",
    "        is_same = True\n",
    "        for word in input_value:\n",
    "            if( index >= len(word)):\n",
    "                is_same = False\n",
    "            elif(index < len(word) and word[index] != char):\n",
    "                is_same = False\n",
    "        if(is_same):\n",
    "            string += char\n",
    "        else:\n",
    "            return string\n",
    "    \n",
    "    \n",
    "\n",
    "    \n",
    "\n",
    "\n",
    "func3(input_list)\n",
    "\n",
    "    \n",
    "\n",
    "\n"
   ]
  },
  {
   "cell_type": "markdown",
   "id": "d741ce1b-7c14-432b-9d22-06e3c842d621",
   "metadata": {
    "tags": []
   },
   "source": [
    "### Exercise 4\n",
    "Given a list of numbers, return whether any two sums to k. For example, given [10, 15, 3, 7] and k of 17, return true since 10 + 7 is 17.\n",
    "\n",
    "Bonus: Can you do this in one pass?"
   ]
  },
  {
   "cell_type": "code",
   "execution_count": 22,
   "id": "9fdc241e-0603-4734-8b00-bbd3ae891cd4",
   "metadata": {},
   "outputs": [
    {
     "name": "stdout",
     "output_type": "stream",
     "text": [
      "10 + 10 = 20\n",
      "True\n"
     ]
    }
   ],
   "source": [
    "input_list = [10,15,3,7,10]\n",
    "\n",
    "def func4(input_value,k):\n",
    "    for num1_index ,num1 in enumerate(input_value):\n",
    "        for num2_index,num2 in enumerate(input_value):\n",
    "            if(k-num1 == num2 and num1_index != num2_index):\n",
    "                print(f'{num1} + {num2} = {k}')\n",
    "                return True\n",
    "    return False\n",
    "\n",
    "value = func4(input_list,20)\n",
    "print(value)"
   ]
  }
 ],
 "metadata": {
  "kernelspec": {
   "display_name": "base",
   "language": "python",
   "name": "python3"
  },
  "language_info": {
   "codemirror_mode": {
    "name": "ipython",
    "version": 3
   },
   "file_extension": ".py",
   "mimetype": "text/x-python",
   "name": "python",
   "nbconvert_exporter": "python",
   "pygments_lexer": "ipython3",
   "version": "3.12.4"
  }
 },
 "nbformat": 4,
 "nbformat_minor": 5
}
