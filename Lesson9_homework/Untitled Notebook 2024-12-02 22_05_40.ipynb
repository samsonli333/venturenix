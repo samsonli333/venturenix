{
 "cells": [
  {
   "cell_type": "code",
   "execution_count": 0,
   "metadata": {
    "application/vnd.databricks.v1+cell": {
     "cellMetadata": {
      "byteLimit": 2048000,
      "rowLimit": 10000
     },
     "inputWidgets": {},
     "nuid": "7e672ee0-2f2b-49ce-9930-b79835f12120",
     "showTitle": false,
     "tableResultSettingsMap": {},
     "title": ""
    }
   },
   "outputs": [
    {
     "output_type": "stream",
     "name": "stderr",
     "output_type": "stream",
     "text": [
      "/databricks/spark/python/pyspark/sql/pandas/utils.py:117: UserWarning: The conversion of DecimalType columns is inefficient and may take a long time. Column names: [total_extendedprice, total_discounted_extendedprice, total_discounted_extendedprice_with_tax, average_extendedprice, average_quantity, average_discount] If those columns are not necessary, you may consider dropping them or converting to primitive types before the conversion.\n  warnings.warn(\n"
     ]
    },
    {
     "output_type": "execute_result",
     "data": {
      "text/html": [
       "<div>\n",
       "<style scoped>\n",
       "    .dataframe tbody tr th:only-of-type {\n",
       "        vertical-align: middle;\n",
       "    }\n",
       "\n",
       "    .dataframe tbody tr th {\n",
       "        vertical-align: top;\n",
       "    }\n",
       "\n",
       "    .dataframe thead th {\n",
       "        text-align: right;\n",
       "    }\n",
       "</style>\n",
       "<table border=\"1\" class=\"dataframe\">\n",
       "  <thead>\n",
       "    <tr style=\"text-align: right;\">\n",
       "      <th></th>\n",
       "      <th></th>\n",
       "      <th>total_extendedprice</th>\n",
       "      <th>total_discounted_extendedprice</th>\n",
       "      <th>total_discounted_extendedprice_with_tax</th>\n",
       "      <th>average_extendedprice</th>\n",
       "      <th>average_quantity</th>\n",
       "      <th>average_discount</th>\n",
       "      <th>count_rows</th>\n",
       "    </tr>\n",
       "    <tr>\n",
       "      <th>l_returnflag</th>\n",
       "      <th>l_linestatus</th>\n",
       "      <th></th>\n",
       "      <th></th>\n",
       "      <th></th>\n",
       "      <th></th>\n",
       "      <th></th>\n",
       "      <th></th>\n",
       "      <th></th>\n",
       "    </tr>\n",
       "  </thead>\n",
       "  <tbody>\n",
       "    <tr>\n",
       "      <th>A</th>\n",
       "      <th>F</th>\n",
       "      <td>283107483036.12</td>\n",
       "      <td>268952035589.0630</td>\n",
       "      <td>279714361804.228122</td>\n",
       "      <td>38237.672531</td>\n",
       "      <td>25.502594</td>\n",
       "      <td>0.049998</td>\n",
       "      <td>7403889</td>\n",
       "    </tr>\n",
       "    <tr>\n",
       "      <th rowspan=\"2\" valign=\"top\">N</th>\n",
       "      <th>F</th>\n",
       "      <td>7364213967.95</td>\n",
       "      <td>6995782725.6633</td>\n",
       "      <td>7275821143.989585</td>\n",
       "      <td>38267.783391</td>\n",
       "      <td>25.532153</td>\n",
       "      <td>0.050031</td>\n",
       "      <td>192439</td>\n",
       "    </tr>\n",
       "    <tr>\n",
       "      <th>O</th>\n",
       "      <td>573408429286.93</td>\n",
       "      <td>544739673665.2863</td>\n",
       "      <td>566536316588.144688</td>\n",
       "      <td>38234.584953</td>\n",
       "      <td>25.498279</td>\n",
       "      <td>0.049997</td>\n",
       "      <td>14997114</td>\n",
       "    </tr>\n",
       "    <tr>\n",
       "      <th>R</th>\n",
       "      <th>F</th>\n",
       "      <td>283310887148.20</td>\n",
       "      <td>269147687267.2029</td>\n",
       "      <td>279912972474.864338</td>\n",
       "      <td>38252.414805</td>\n",
       "      <td>25.513233</td>\n",
       "      <td>0.049996</td>\n",
       "      <td>7406353</td>\n",
       "    </tr>\n",
       "  </tbody>\n",
       "</table>\n",
       "</div>"
      ],
      "text/plain": [
       "                          total_extendedprice total_discounted_extendedprice total_discounted_extendedprice_with_tax average_extendedprice average_quantity average_discount  count_rows\n",
       "l_returnflag l_linestatus                                                                                                                                                               \n",
       "A            F                283107483036.12              268952035589.0630                     279714361804.228122          38237.672531        25.502594         0.049998     7403889\n",
       "N            F                  7364213967.95                6995782725.6633                       7275821143.989585          38267.783391        25.532153         0.050031      192439\n",
       "             O                573408429286.93              544739673665.2863                     566536316588.144688          38234.584953        25.498279         0.049997    14997114\n",
       "R            F                283310887148.20              269147687267.2029                     279912972474.864338          38252.414805        25.513233         0.049996     7406353"
      ]
     },
     "execution_count": 2,
     "metadata": {},
     "output_type": "execute_result"
    }
   ],
   "source": [
    "df = spark.table('samples.tpch.lineitem') \n",
    "psdf = df.pandas_api() \n",
    "\n",
    "psdf['total_extendedprice'] = psdf['l_extendedprice']\n",
    "psdf['total_discounted_extendedprice'] = psdf['l_extendedprice'] * (1 - psdf['l_discount'])\n",
    "psdf['total_discounted_extendedprice_with_tax'] = psdf['total_discounted_extendedprice'] * (1 + psdf['l_tax'])\n",
    "\n",
    "psdf['average_extendedprice'] = psdf['l_extendedprice']\n",
    "psdf['average_quantity'] = psdf['l_quantity']\n",
    "psdf['average_discount'] = psdf['l_discount']\n",
    "psdf['count_rows'] = psdf['l_orderkey']\n",
    "\n",
    "psdf.groupby(['l_returnflag','l_linestatus']).agg({'total_extendedprice':'sum','total_discounted_extendedprice':'sum','total_discounted_extendedprice_with_tax':'sum',\n",
    "'average_extendedprice':'mean','average_quantity':'mean','average_discount':'mean',\n",
    "'count_rows':'count'}).sort_index()"
   ]
  }
 ],
 "metadata": {
  "application/vnd.databricks.v1+notebook": {
   "dashboards": [],
   "environmentMetadata": null,
   "language": "python",
   "notebookMetadata": {
    "pythonIndentUnit": 4
   },
   "notebookName": "Untitled Notebook 2024-12-02 22:05:40",
   "widgets": {}
  }
 },
 "nbformat": 4,
 "nbformat_minor": 0
}
